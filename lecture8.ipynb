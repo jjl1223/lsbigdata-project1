{
  "cells": [
    {
      "cell_type": "raw",
      "metadata": {},
      "source": [
        "---\n",
        "title: 교재 챕터8\n",
        "---"
      ],
      "id": "00cf0215"
    },
    {
      "cell_type": "markdown",
      "metadata": {},
      "source": [
        "## seaborn 패키지 불러오기"
      ],
      "id": "5f98ee77"
    },
    {
      "cell_type": "code",
      "metadata": {},
      "source": [
        "import seaborn as sns\n",
        "import matplotlib.pyplot as plt\n",
        "import plotly.express as px\n",
        "mpg=pd.read_csv(\"data/mpg.csv\")\n"
      ],
      "id": "88fb1013",
      "execution_count": null,
      "outputs": []
    },
    {
      "cell_type": "markdown",
      "metadata": {},
      "source": [
        "##scater plot 사용"
      ],
      "id": "68365685"
    },
    {
      "cell_type": "code",
      "metadata": {},
      "source": [
        "sns.scatterplot(data=mpg,x=\"displ\",y=\"hwy\").set(xlim=[3,6],ylim=[10,30])"
      ],
      "id": "f4b86c5a",
      "execution_count": null,
      "outputs": []
    },
    {
      "cell_type": "markdown",
      "metadata": {},
      "source": [
        "## barplot() 사용하기\n",
        "#데이터 전처리하기\n"
      ],
      "id": "2a313f91"
    },
    {
      "cell_type": "code",
      "metadata": {},
      "source": [
        "df_mpg= mpg.groupby(\"drv\",as_index=False) \\\n",
        "            .agg(mean_hwy=(\"hwy\",\"mean\"))\n",
        "            \n",
        "df_mpg"
      ],
      "id": "8980d731",
      "execution_count": null,
      "outputs": []
    },
    {
      "cell_type": "markdown",
      "metadata": {},
      "source": [
        "#barplot 사용해서 그래프 그리기\n"
      ],
      "id": "4a555c0d"
    },
    {
      "cell_type": "code",
      "metadata": {},
      "source": [
        "sns.barplot(data=df_mpg.sort_values(\"mean_hwy\"), x=\"drv\",y=\"mean_hwy\",hue=\"drv\" )   "
      ],
      "id": "0975378f",
      "execution_count": null,
      "outputs": []
    },
    {
      "cell_type": "markdown",
      "metadata": {},
      "source": [
        "##count plot 사용하기\n"
      ],
      "id": "cd902e73"
    },
    {
      "cell_type": "code",
      "metadata": {},
      "source": [
        "sns.countplot(data=mpg,x='drv')"
      ],
      "id": "4301b215",
      "execution_count": null,
      "outputs": []
    },
    {
      "cell_type": "code",
      "metadata": {},
      "source": [
        "px.scatter(data_frame = mpg, x= 'cty',y='hwy',color='drv')"
      ],
      "id": "1874a403",
      "execution_count": null,
      "outputs": []
    }
  ],
  "metadata": {
    "kernelspec": {
      "name": "python3",
      "language": "python",
      "display_name": "Python 3 (ipykernel)"
    }
  },
  "nbformat": 4,
  "nbformat_minor": 5
}